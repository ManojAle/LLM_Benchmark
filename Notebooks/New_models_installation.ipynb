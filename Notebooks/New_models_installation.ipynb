{
 "cells": [
  {
   "cell_type": "code",
   "execution_count": 1,
   "id": "a9e392c5",
   "metadata": {},
   "outputs": [
    {
     "name": "stdout",
     "output_type": "stream",
     "text": [
      "Git LFS initialized.\r\n"
     ]
    }
   ],
   "source": [
    "!git lfs install"
   ]
  },
  {
   "cell_type": "code",
   "execution_count": 2,
   "id": "60c9f317",
   "metadata": {},
   "outputs": [
    {
     "name": "stdout",
     "output_type": "stream",
     "text": [
      "Cloning into 'Nxcode-CQ-7B-orpo'...\n",
      "remote: Enumerating objects: 146, done.\u001b[K\n",
      "remote: Counting objects: 100% (143/143), done.\u001b[K\n",
      "remote: Compressing objects: 100% (143/143), done.\u001b[K\n",
      "remote: Total 146 (delta 76), reused 0 (delta 0), pack-reused 3 (from 1)\u001b[K\n",
      "Receiving objects: 100% (146/146), 1.16 MiB | 23.28 MiB/s, done.\n",
      "Resolving deltas: 100% (76/76), done.\n",
      "Filtering content: 100% (3/3), 5.50 GiB | 24.89 MiB/s, done.\n"
     ]
    }
   ],
   "source": [
    "!git clone https://huggingface.co/NTQAI/Nxcode-CQ-7B-orpo"
   ]
  },
  {
   "cell_type": "code",
   "execution_count": 3,
   "id": "0189b298",
   "metadata": {},
   "outputs": [
    {
     "name": "stdout",
     "output_type": "stream",
     "text": [
      "Cloning into 'CodeQwen1.5-7B-Chat'...\n",
      "remote: Enumerating objects: 37, done.\u001b[K\n",
      "remote: Counting objects: 100% (15/15), done.\u001b[K\n",
      "remote: Compressing objects: 100% (12/12), done.\u001b[K\n",
      "remote: Total 37 (delta 7), reused 3 (delta 3), pack-reused 22 (from 1)\u001b[K\n",
      "Unpacking objects: 100% (37/37), 2.22 MiB | 8.70 MiB/s, done.\n",
      "Filtering content: 100% (5/5), 13.50 GiB | 72.49 MiB/s, done.\n"
     ]
    }
   ],
   "source": [
    "!git clone https://huggingface.co/Qwen/CodeQwen1.5-7B-Chat"
   ]
  },
  {
   "cell_type": "code",
   "execution_count": 6,
   "id": "6381b198",
   "metadata": {},
   "outputs": [
    {
     "name": "stdout",
     "output_type": "stream",
     "text": [
      "Cloning into 'Artigenz-Coder-DS-6.7B'...\n",
      "remote: Enumerating objects: 30, done.\u001b[K\n",
      "remote: Counting objects: 100% (25/25), done.\u001b[K\n",
      "remote: Compressing objects: 100% (25/25), done.\u001b[K\n",
      "remote: Total 30 (delta 6), reused 0 (delta 0), pack-reused 5 (from 1)\u001b[K\n",
      "Unpacking objects: 100% (30/30), 405.92 KiB | 8.46 MiB/s, done.\n",
      "Filtering content: 100% (4/4), 4.55 GiB | 29.34 MiB/s, done.\n"
     ]
    }
   ],
   "source": [
    "!git clone https://huggingface.co/Artigenz/Artigenz-Coder-DS-6.7B"
   ]
  },
  {
   "cell_type": "code",
   "execution_count": 5,
   "id": "b7a6fe9b",
   "metadata": {},
   "outputs": [
    {
     "data": {
      "text/plain": [
       "'/home/manojale/Documents/Performance_Dataset/New_project_proposal'"
      ]
     },
     "execution_count": 5,
     "metadata": {},
     "output_type": "execute_result"
    }
   ],
   "source": [
    "import os \n",
    "os.getcwd()"
   ]
  },
  {
   "cell_type": "code",
   "execution_count": null,
   "id": "ceb9f6fb",
   "metadata": {},
   "outputs": [],
   "source": []
  }
 ],
 "metadata": {
  "kernelspec": {
   "display_name": "Python 3 (ipykernel)",
   "language": "python",
   "name": "python3"
  },
  "language_info": {
   "codemirror_mode": {
    "name": "ipython",
    "version": 3
   },
   "file_extension": ".py",
   "mimetype": "text/x-python",
   "name": "python",
   "nbconvert_exporter": "python",
   "pygments_lexer": "ipython3",
   "version": "3.10.12"
  }
 },
 "nbformat": 4,
 "nbformat_minor": 5
}
